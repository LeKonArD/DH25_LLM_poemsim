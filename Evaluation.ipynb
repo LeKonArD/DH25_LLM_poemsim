{
 "cells": [
  {
   "cell_type": "code",
   "execution_count": 12,
   "id": "ec2f17fd",
   "metadata": {},
   "outputs": [],
   "source": [
    "import os\n",
    "import re\n",
    "import pandas as pd\n",
    "from sklearn.metrics import accuracy_score, classification_report, f1_score\n",
    "import seaborn as sns\n",
    "import matplotlib.pyplot as plt"
   ]
  },
  {
   "cell_type": "code",
   "execution_count": 2,
   "id": "eb2bfd33",
   "metadata": {},
   "outputs": [],
   "source": [
    "dataset = pd.read_csv(\"testset.tsv\", sep=\"\\t\")"
   ]
  },
  {
   "cell_type": "code",
   "execution_count": 26,
   "id": "6cfe2c07",
   "metadata": {},
   "outputs": [],
   "source": [
    "transdict = {\"overall\":\"Insgesamt\",\n",
    "             \"style\":\"Stil\",\n",
    "             \"form\":\"Form\",\n",
    "             \"content\":\"Inhalt\",\n",
    "             \"emotion\":\"Emotion\"}\n",
    "\n",
    "gpt_trans = {\"B\":1,\"A\":0,\"H\":2,\"E\":2,\"L\":3}\n",
    "dataset_trans = {\"left\":0, \"right\":1, \"same\":2}"
   ]
  },
  {
   "cell_type": "markdown",
   "id": "1cbea206",
   "metadata": {},
   "source": [
    "# Baselines"
   ]
  },
  {
   "cell_type": "code",
   "execution_count": 4,
   "id": "a18c8ab4",
   "metadata": {},
   "outputs": [],
   "source": [
    "logger = []"
   ]
  },
  {
   "cell_type": "code",
   "execution_count": 5,
   "id": "c1cebce3",
   "metadata": {},
   "outputs": [
    {
     "name": "stdout",
     "output_type": "stream",
     "text": [
      "overall\n",
      "style\n",
      "emotion\n",
      "content\n",
      "form\n"
     ]
    },
    {
     "name": "stderr",
     "output_type": "stream",
     "text": [
      "<>:5: SyntaxWarning: invalid escape sequence '\\_'\n",
      "<>:5: SyntaxWarning: invalid escape sequence '\\_'\n",
      "/tmp/ipykernel_1912335/1909881717.py:5: SyntaxWarning: invalid escape sequence '\\_'\n",
      "  aspect = re.sub(\".*\\_|\\.tsv\", \"\", fname)\n"
     ]
    }
   ],
   "source": [
    "files = [x for x in os.listdir(\"results\") if x.startswith(\"eng_baseline_mini\")]\n",
    "\n",
    "for fname in files:\n",
    "    \n",
    "    aspect = re.sub(\".*\\_|\\.tsv\", \"\", fname)\n",
    "    print(aspect)\n",
    "    data = pd.read_csv(\"results/\"+fname, sep=\"\\t\")\n",
    "    data[\"pred\"] = data.answer.apply(lambda x: gpt_trans[x[-1]])\n",
    "    true = dataset[transdict[aspect]]\n",
    "    true = [dataset_trans[x] for x in true]\n",
    "    \n",
    "    eval_frame = pd.DataFrame()\n",
    "    eval_frame[\"true\"] = true\n",
    "    eval_frame[\"pred\"] = list(data[\"pred\"])\n",
    "    \n",
    "    three_class = accuracy_score(eval_frame[\"true\"], eval_frame[\"pred\"])\n",
    "    \n",
    "    eval_frame = eval_frame[eval_frame.true != 2]\n",
    "    \n",
    "    two_class = accuracy_score(eval_frame[\"true\"], eval_frame[\"pred\"])\n",
    "    \n",
    "    logger.append([\"4o-mini\",\"eng\", three_class, two_class])"
   ]
  },
  {
   "cell_type": "code",
   "execution_count": 6,
   "id": "03a650b9",
   "metadata": {},
   "outputs": [
    {
     "name": "stdout",
     "output_type": "stream",
     "text": [
      "overall\n",
      "content\n",
      "form\n",
      "emotion\n",
      "style\n"
     ]
    },
    {
     "name": "stderr",
     "output_type": "stream",
     "text": [
      "<>:5: SyntaxWarning: invalid escape sequence '\\_'\n",
      "<>:5: SyntaxWarning: invalid escape sequence '\\_'\n",
      "/tmp/ipykernel_1912335/1490087092.py:5: SyntaxWarning: invalid escape sequence '\\_'\n",
      "  aspect = re.sub(\".*\\_|\\.tsv\", \"\", fname)\n"
     ]
    }
   ],
   "source": [
    "files = [x for x in os.listdir(\"results\") if x.startswith(\"ger_baseline_mini\")]\n",
    "\n",
    "for fname in files:\n",
    "    \n",
    "    aspect = re.sub(\".*\\_|\\.tsv\", \"\", fname)\n",
    "    print(aspect)\n",
    "    data = pd.read_csv(\"results/\"+fname, sep=\"\\t\")\n",
    "    data[\"pred\"] = data.answer.apply(lambda x: gpt_trans[x[-1]])\n",
    "    true = dataset[transdict[aspect]]\n",
    "    true = [dataset_trans[x] for x in true]\n",
    "    \n",
    "    eval_frame = pd.DataFrame()\n",
    "    eval_frame[\"true\"] = true\n",
    "    eval_frame[\"pred\"] = list(data[\"pred\"])\n",
    "    \n",
    "    three_class = accuracy_score(eval_frame[\"true\"], eval_frame[\"pred\"])\n",
    "    \n",
    "    eval_frame = eval_frame[eval_frame.true != 2]\n",
    "    \n",
    "    two_class = accuracy_score(eval_frame[\"true\"], eval_frame[\"pred\"])\n",
    "    \n",
    "    logger.append([\"4o-mini\",\"ger\", three_class, two_class])"
   ]
  },
  {
   "cell_type": "code",
   "execution_count": 7,
   "id": "b11c5813",
   "metadata": {},
   "outputs": [
    {
     "name": "stdout",
     "output_type": "stream",
     "text": [
      "emotion\n",
      "style\n",
      "form\n",
      "overall\n",
      "content\n"
     ]
    },
    {
     "name": "stderr",
     "output_type": "stream",
     "text": [
      "<>:5: SyntaxWarning: invalid escape sequence '\\_'\n",
      "<>:5: SyntaxWarning: invalid escape sequence '\\_'\n",
      "/tmp/ipykernel_1912335/2396636670.py:5: SyntaxWarning: invalid escape sequence '\\_'\n",
      "  aspect = re.sub(\".*\\_|\\.tsv\", \"\", fname)\n"
     ]
    }
   ],
   "source": [
    "files = [x for x in os.listdir(\"results\") if x.startswith(\"eng_baseline_4o\")]\n",
    "\n",
    "for fname in files:\n",
    "    \n",
    "    aspect = re.sub(\".*\\_|\\.tsv\", \"\", fname)\n",
    "    print(aspect)\n",
    "    data = pd.read_csv(\"results/\"+fname, sep=\"\\t\")\n",
    "    data[\"pred\"] = data.answer.apply(lambda x: gpt_trans[x[-1]])\n",
    "    true = dataset[transdict[aspect]]\n",
    "    true = [dataset_trans[x] for x in true]\n",
    "    \n",
    "    eval_frame = pd.DataFrame()\n",
    "    eval_frame[\"true\"] = true\n",
    "    eval_frame[\"pred\"] = list(data[\"pred\"])\n",
    "    \n",
    "    three_class = accuracy_score(eval_frame[\"true\"], eval_frame[\"pred\"])\n",
    "    \n",
    "    eval_frame = eval_frame[eval_frame.true != 2]\n",
    "    \n",
    "    two_class = accuracy_score(eval_frame[\"true\"], eval_frame[\"pred\"])\n",
    "    \n",
    "    logger.append([\"4o\",\"eng\", three_class, two_class])"
   ]
  },
  {
   "cell_type": "code",
   "execution_count": 8,
   "id": "a59ef8e3",
   "metadata": {
    "scrolled": true
   },
   "outputs": [
    {
     "name": "stdout",
     "output_type": "stream",
     "text": [
      "content\n",
      "style\n",
      "emotion\n",
      "form\n",
      "overall\n"
     ]
    },
    {
     "name": "stderr",
     "output_type": "stream",
     "text": [
      "<>:5: SyntaxWarning: invalid escape sequence '\\_'\n",
      "<>:5: SyntaxWarning: invalid escape sequence '\\_'\n",
      "/tmp/ipykernel_1912335/670015238.py:5: SyntaxWarning: invalid escape sequence '\\_'\n",
      "  aspect = re.sub(\".*\\_|\\.tsv\", \"\", fname)\n"
     ]
    }
   ],
   "source": [
    "files = [x for x in os.listdir(\"results\") if x.startswith(\"ger_baseline_4o\")]\n",
    "\n",
    "for fname in files:\n",
    "    \n",
    "    aspect = re.sub(\".*\\_|\\.tsv\", \"\", fname)\n",
    "    print(aspect)\n",
    "    data = pd.read_csv(\"results/\"+fname, sep=\"\\t\")\n",
    "    data[\"pred\"] = data.answer.apply(lambda x: gpt_trans[x[-1]])\n",
    "    true = dataset[transdict[aspect]]\n",
    "    true = [dataset_trans[x] for x in true]\n",
    "    \n",
    "    eval_frame = pd.DataFrame()\n",
    "    eval_frame[\"true\"] = true\n",
    "    eval_frame[\"pred\"] = list(data[\"pred\"])\n",
    "    \n",
    "    three_class = accuracy_score(eval_frame[\"true\"], eval_frame[\"pred\"])\n",
    "    \n",
    "    eval_frame = eval_frame[eval_frame.true != 2]\n",
    "    \n",
    "    two_class = accuracy_score(eval_frame[\"true\"], eval_frame[\"pred\"])\n",
    "    \n",
    "    logger.append([\"4o\",\"ger\", three_class, two_class])"
   ]
  },
  {
   "cell_type": "code",
   "execution_count": 14,
   "id": "dc2dfed1",
   "metadata": {},
   "outputs": [],
   "source": [
    "frame = pd.DataFrame(logger)\n",
    "frame.columns = [\"model\",\"lang\",\"three class\",\"two class\"]"
   ]
  },
  {
   "cell_type": "code",
   "execution_count": 16,
   "id": "bc689871",
   "metadata": {
    "scrolled": true
   },
   "outputs": [
    {
     "data": {
      "text/html": [
       "<div>\n",
       "<style scoped>\n",
       "    .dataframe tbody tr th:only-of-type {\n",
       "        vertical-align: middle;\n",
       "    }\n",
       "\n",
       "    .dataframe tbody tr th {\n",
       "        vertical-align: top;\n",
       "    }\n",
       "\n",
       "    .dataframe thead th {\n",
       "        text-align: right;\n",
       "    }\n",
       "</style>\n",
       "<table border=\"1\" class=\"dataframe\">\n",
       "  <thead>\n",
       "    <tr style=\"text-align: right;\">\n",
       "      <th></th>\n",
       "      <th></th>\n",
       "      <th>three class</th>\n",
       "      <th>two class</th>\n",
       "    </tr>\n",
       "    <tr>\n",
       "      <th>model</th>\n",
       "      <th>lang</th>\n",
       "      <th></th>\n",
       "      <th></th>\n",
       "    </tr>\n",
       "  </thead>\n",
       "  <tbody>\n",
       "    <tr>\n",
       "      <th rowspan=\"2\" valign=\"top\">4o</th>\n",
       "      <th>eng</th>\n",
       "      <td>0.480</td>\n",
       "      <td>0.646627</td>\n",
       "    </tr>\n",
       "    <tr>\n",
       "      <th>ger</th>\n",
       "      <td>0.474</td>\n",
       "      <td>0.692750</td>\n",
       "    </tr>\n",
       "    <tr>\n",
       "      <th rowspan=\"2\" valign=\"top\">4o-mini</th>\n",
       "      <th>eng</th>\n",
       "      <td>0.370</td>\n",
       "      <td>0.555480</td>\n",
       "    </tr>\n",
       "    <tr>\n",
       "      <th>ger</th>\n",
       "      <td>0.388</td>\n",
       "      <td>0.619383</td>\n",
       "    </tr>\n",
       "  </tbody>\n",
       "</table>\n",
       "</div>"
      ],
      "text/plain": [
       "              three class  two class\n",
       "model   lang                        \n",
       "4o      eng         0.480   0.646627\n",
       "        ger         0.474   0.692750\n",
       "4o-mini eng         0.370   0.555480\n",
       "        ger         0.388   0.619383"
      ]
     },
     "execution_count": 16,
     "metadata": {},
     "output_type": "execute_result"
    }
   ],
   "source": [
    "frame.groupby([\"model\",\"lang\"]).mean()"
   ]
  },
  {
   "cell_type": "markdown",
   "id": "44419ee9",
   "metadata": {},
   "source": [
    "## Multi vs sinlge aspect"
   ]
  },
  {
   "cell_type": "code",
   "execution_count": 38,
   "id": "1215369f",
   "metadata": {},
   "outputs": [],
   "source": [
    "logger = []"
   ]
  },
  {
   "cell_type": "code",
   "execution_count": 39,
   "id": "49d987bb",
   "metadata": {},
   "outputs": [
    {
     "name": "stderr",
     "output_type": "stream",
     "text": [
      "<>:7: SyntaxWarning: invalid escape sequence '\\s'\n",
      "<>:7: SyntaxWarning: invalid escape sequence '\\s'\n",
      "/tmp/ipykernel_1912335/487746402.py:7: SyntaxWarning: invalid escape sequence '\\s'\n",
      "  ans = [re.sub(\"\\s+$\",\"\",x) for x in ans]\n"
     ]
    }
   ],
   "source": [
    "data = pd.read_csv(\"results/ger_baseline_mini_multi.tsv\",sep=\"\\t\")\n",
    "\n",
    "answers = []\n",
    "for ans in data[\"answer\"]:\n",
    "    \n",
    "    ans = ans.split(\"\\n\")\n",
    "    ans = [re.sub(\"\\s+$\",\"\",x) for x in ans]\n",
    "    ins = gpt_trans[ans[-1][-1]]\n",
    "    emo = gpt_trans[ans[-2][-1]]\n",
    "    form = gpt_trans[ans[-3][-1]]\n",
    "    stil = gpt_trans[ans[-4][-1]]\n",
    "    inhalt = gpt_trans[ans[-5][-1]]\n",
    "    \n",
    "    answers.append([inhalt, stil, form, emo, ins])\n",
    "    \n",
    "prediction = pd.DataFrame(answers)\n",
    "prediction.columns = [\"Inhalt\", \"Stil\", \"Form\", \"Emotion\", \"Insgesamt\"]\n",
    "\n",
    "y_true = []\n",
    "y_pred = []\n",
    "for aspect in prediction.columns:\n",
    "    \n",
    "    y_true = [dataset_trans[x] for x in dataset[aspect]]\n",
    "    y_pred = prediction[aspect]\n",
    "    \n",
    "    eval_frame = pd.DataFrame()\n",
    "    eval_frame[\"true\"] = y_true\n",
    "    eval_frame[\"pred\"] = y_pred\n",
    "    \n",
    "    three_class = accuracy_score(eval_frame[\"true\"], eval_frame[\"pred\"])\n",
    "    \n",
    "    eval_frame = eval_frame[eval_frame.true != 2]\n",
    "    \n",
    "    two_class = accuracy_score(eval_frame[\"true\"], eval_frame[\"pred\"])\n",
    "    \n",
    "    logger.append([\"mini\",\"ger\", three_class, two_class])\n",
    "    "
   ]
  },
  {
   "cell_type": "code",
   "execution_count": 40,
   "id": "013a0da2",
   "metadata": {},
   "outputs": [
    {
     "name": "stderr",
     "output_type": "stream",
     "text": [
      "<>:7: SyntaxWarning: invalid escape sequence '\\s'\n",
      "<>:7: SyntaxWarning: invalid escape sequence '\\s'\n",
      "/tmp/ipykernel_1912335/1060225082.py:7: SyntaxWarning: invalid escape sequence '\\s'\n",
      "  ans = [re.sub(\"\\s+$\",\"\",x) for x in ans]\n"
     ]
    }
   ],
   "source": [
    "data = pd.read_csv(\"results/eng_baseline_mini_multi.tsv\",sep=\"\\t\")\n",
    "\n",
    "answers = []\n",
    "for ans in data[\"answer\"]:\n",
    "    \n",
    "    ans = ans.split(\"\\n\")\n",
    "    ans = [re.sub(\"\\s+$\",\"\",x) for x in ans]\n",
    "    ins = gpt_trans[ans[-1][-1]]\n",
    "    emo = gpt_trans[ans[-2][-1]]\n",
    "    form = gpt_trans[ans[-3][-1]]\n",
    "    stil = gpt_trans[ans[-4][-1]]\n",
    "    inhalt = gpt_trans[ans[-5][-1]]\n",
    "    \n",
    "    answers.append([inhalt, stil, form, emo, ins])\n",
    "    \n",
    "prediction = pd.DataFrame(answers)\n",
    "prediction.columns = [\"Inhalt\", \"Stil\", \"Form\", \"Emotion\", \"Insgesamt\"]\n",
    "\n",
    "y_true = []\n",
    "y_pred = []\n",
    "for aspect in prediction.columns:\n",
    "    \n",
    "    y_true = [dataset_trans[x] for x in dataset[aspect]]\n",
    "    y_pred = prediction[aspect]\n",
    "    \n",
    "    eval_frame = pd.DataFrame()\n",
    "    eval_frame[\"true\"] = y_true\n",
    "    eval_frame[\"pred\"] = y_pred\n",
    "    \n",
    "    three_class = accuracy_score(eval_frame[\"true\"], eval_frame[\"pred\"])\n",
    "    \n",
    "    eval_frame = eval_frame[eval_frame.true != 2]\n",
    "    \n",
    "    two_class = accuracy_score(eval_frame[\"true\"], eval_frame[\"pred\"])\n",
    "    \n",
    "    logger.append([\"mini\",\"eng\", three_class, two_class])"
   ]
  },
  {
   "cell_type": "code",
   "execution_count": 43,
   "id": "e152ed4c",
   "metadata": {},
   "outputs": [
    {
     "name": "stderr",
     "output_type": "stream",
     "text": [
      "<>:7: SyntaxWarning: invalid escape sequence '\\s'\n",
      "<>:7: SyntaxWarning: invalid escape sequence '\\s'\n",
      "/tmp/ipykernel_1912335/4222019138.py:7: SyntaxWarning: invalid escape sequence '\\s'\n",
      "  ans = [re.sub(\"\\s+$\",\"\",x) for x in ans]\n"
     ]
    }
   ],
   "source": [
    "data = pd.read_csv(\"results/eng_baseline_4o_multi.tsv\",sep=\"\\t\")\n",
    "\n",
    "answers = []\n",
    "for ans in data[\"answer\"]:\n",
    "    \n",
    "    ans = ans.split(\"\\n\")\n",
    "    ans = [re.sub(\"\\s+$\",\"\",x) for x in ans]\n",
    "    ins = gpt_trans[ans[-1][-1]]\n",
    "    emo = gpt_trans[ans[-2][-1]]\n",
    "    form = gpt_trans[ans[-3][-1]]\n",
    "    stil = gpt_trans[ans[-4][-1]]\n",
    "    inhalt = gpt_trans[ans[-5][-1]]\n",
    "    \n",
    "    answers.append([inhalt, stil, form, emo, ins])\n",
    "    \n",
    "prediction = pd.DataFrame(answers)\n",
    "prediction.columns = [\"Inhalt\", \"Stil\", \"Form\", \"Emotion\", \"Insgesamt\"]\n",
    "\n",
    "y_true = []\n",
    "y_pred = []\n",
    "for aspect in prediction.columns:\n",
    "    \n",
    "    y_true = [dataset_trans[x] for x in dataset[aspect]]\n",
    "    y_pred = prediction[aspect]\n",
    "    \n",
    "    eval_frame = pd.DataFrame()\n",
    "    eval_frame[\"true\"] = y_true\n",
    "    eval_frame[\"pred\"] = y_pred\n",
    "    \n",
    "    three_class = accuracy_score(eval_frame[\"true\"], eval_frame[\"pred\"])\n",
    "    \n",
    "    eval_frame = eval_frame[eval_frame.true != 2]\n",
    "    \n",
    "    two_class = accuracy_score(eval_frame[\"true\"], eval_frame[\"pred\"])\n",
    "    \n",
    "    logger.append([\"4o\",\"eng\", three_class, two_class])"
   ]
  },
  {
   "cell_type": "code",
   "execution_count": 45,
   "id": "b3cf1181",
   "metadata": {},
   "outputs": [
    {
     "name": "stderr",
     "output_type": "stream",
     "text": [
      "<>:7: SyntaxWarning: invalid escape sequence '\\s'\n",
      "<>:7: SyntaxWarning: invalid escape sequence '\\s'\n",
      "/tmp/ipykernel_1912335/1257484225.py:7: SyntaxWarning: invalid escape sequence '\\s'\n",
      "  ans = [re.sub(\"\\s+$\",\"\",x) for x in ans]\n"
     ]
    }
   ],
   "source": [
    "data = pd.read_csv(\"results/ger_baseline_4o_multi.tsv\",sep=\"\\t\")\n",
    "\n",
    "answers = []\n",
    "for ans in data[\"answer\"]:\n",
    "    \n",
    "    ans = ans.split(\"\\n\")\n",
    "    ans = [re.sub(\"\\s+$\",\"\",x) for x in ans]\n",
    "    ins = gpt_trans[ans[-1][-1]]\n",
    "    emo = gpt_trans[ans[-2][-1]]\n",
    "    form = gpt_trans[ans[-3][-1]]\n",
    "    stil = gpt_trans[ans[-4][-1]]\n",
    "    inhalt = gpt_trans[ans[-5][-1]]\n",
    "    \n",
    "    answers.append([inhalt, stil, form, emo, ins])\n",
    "    \n",
    "prediction = pd.DataFrame(answers)\n",
    "prediction.columns = [\"Inhalt\", \"Stil\", \"Form\", \"Emotion\", \"Insgesamt\"]\n",
    "\n",
    "y_true = []\n",
    "y_pred = []\n",
    "for aspect in prediction.columns:\n",
    "    \n",
    "    y_true = [dataset_trans[x] for x in dataset[aspect]]\n",
    "    y_pred = prediction[aspect]\n",
    "    \n",
    "    eval_frame = pd.DataFrame()\n",
    "    eval_frame[\"true\"] = y_true\n",
    "    eval_frame[\"pred\"] = y_pred\n",
    "    \n",
    "    three_class = accuracy_score(eval_frame[\"true\"], eval_frame[\"pred\"])\n",
    "    \n",
    "    eval_frame = eval_frame[eval_frame.true != 2]\n",
    "    \n",
    "    two_class = accuracy_score(eval_frame[\"true\"], eval_frame[\"pred\"])\n",
    "    \n",
    "    logger.append([\"4o\",\"ger\", three_class, two_class])"
   ]
  },
  {
   "cell_type": "code",
   "execution_count": 46,
   "id": "c9db637c",
   "metadata": {},
   "outputs": [
    {
     "data": {
      "text/html": [
       "<div>\n",
       "<style scoped>\n",
       "    .dataframe tbody tr th:only-of-type {\n",
       "        vertical-align: middle;\n",
       "    }\n",
       "\n",
       "    .dataframe tbody tr th {\n",
       "        vertical-align: top;\n",
       "    }\n",
       "\n",
       "    .dataframe thead th {\n",
       "        text-align: right;\n",
       "    }\n",
       "</style>\n",
       "<table border=\"1\" class=\"dataframe\">\n",
       "  <thead>\n",
       "    <tr style=\"text-align: right;\">\n",
       "      <th></th>\n",
       "      <th></th>\n",
       "      <th>three class</th>\n",
       "      <th>two class</th>\n",
       "    </tr>\n",
       "    <tr>\n",
       "      <th>model</th>\n",
       "      <th>lang</th>\n",
       "      <th></th>\n",
       "      <th></th>\n",
       "    </tr>\n",
       "  </thead>\n",
       "  <tbody>\n",
       "    <tr>\n",
       "      <th rowspan=\"2\" valign=\"top\">4o</th>\n",
       "      <th>eng</th>\n",
       "      <td>0.498</td>\n",
       "      <td>0.508777</td>\n",
       "    </tr>\n",
       "    <tr>\n",
       "      <th>ger</th>\n",
       "      <td>0.468</td>\n",
       "      <td>0.565502</td>\n",
       "    </tr>\n",
       "    <tr>\n",
       "      <th rowspan=\"2\" valign=\"top\">mini</th>\n",
       "      <th>eng</th>\n",
       "      <td>0.428</td>\n",
       "      <td>0.480709</td>\n",
       "    </tr>\n",
       "    <tr>\n",
       "      <th>ger</th>\n",
       "      <td>0.342</td>\n",
       "      <td>0.483855</td>\n",
       "    </tr>\n",
       "  </tbody>\n",
       "</table>\n",
       "</div>"
      ],
      "text/plain": [
       "            three class  two class\n",
       "model lang                        \n",
       "4o    eng         0.498   0.508777\n",
       "      ger         0.468   0.565502\n",
       "mini  eng         0.428   0.480709\n",
       "      ger         0.342   0.483855"
      ]
     },
     "execution_count": 46,
     "metadata": {},
     "output_type": "execute_result"
    }
   ],
   "source": [
    "frame = pd.DataFrame(logger)\n",
    "frame.columns = [\"model\",\"lang\",\"three class\",\"two class\"]\n",
    "frame.groupby([\"model\",\"lang\"]).mean()"
   ]
  },
  {
   "cell_type": "markdown",
   "id": "c1a801dc",
   "metadata": {},
   "source": [
    "# few shot"
   ]
  },
  {
   "cell_type": "code",
   "execution_count": 78,
   "id": "400ba9a2",
   "metadata": {},
   "outputs": [],
   "source": [
    "logger = []"
   ]
  },
  {
   "cell_type": "code",
   "execution_count": 79,
   "id": "b3a60e55",
   "metadata": {},
   "outputs": [
    {
     "name": "stderr",
     "output_type": "stream",
     "text": [
      "<>:7: SyntaxWarning: invalid escape sequence '\\s'\n",
      "<>:7: SyntaxWarning: invalid escape sequence '\\s'\n",
      "/tmp/ipykernel_1912335/2397230988.py:7: SyntaxWarning: invalid escape sequence '\\s'\n",
      "  ans = [re.sub(\"\\s+$\",\"\",x) for x in ans]\n"
     ]
    }
   ],
   "source": [
    "data = pd.read_csv(\"results/eng_few_4o_multi.tsv\",sep=\"\\t\")\n",
    "\n",
    "answers = []\n",
    "for ans in data[\"answer\"]:\n",
    "    \n",
    "    ans = ans.split(\"\\n\")\n",
    "    ans = [re.sub(\"\\s+$\",\"\",x) for x in ans]\n",
    "    ins = gpt_trans[ans[-1][-1]]\n",
    "    emo = gpt_trans[ans[-2][-1]]\n",
    "    form = gpt_trans[ans[-3][-1]]\n",
    "    stil = gpt_trans[ans[-4][-1]]\n",
    "    inhalt = gpt_trans[ans[-5][-1]]\n",
    "    \n",
    "    answers.append([inhalt, stil, form, emo, ins])\n",
    "    \n",
    "prediction = pd.DataFrame(answers)\n",
    "prediction.columns = [\"Inhalt\", \"Stil\", \"Form\", \"Emotion\", \"Insgesamt\"]\n",
    "\n",
    "y_true = []\n",
    "y_pred = []\n",
    "for aspect in prediction.columns:\n",
    "    \n",
    "    y_true = [dataset_trans[x] for x in dataset[aspect]]\n",
    "    y_pred = prediction[aspect]\n",
    "    \n",
    "    eval_frame = pd.DataFrame()\n",
    "    eval_frame[\"true\"] = y_true\n",
    "    eval_frame[\"pred\"] = y_pred\n",
    "    \n",
    "    three_class = accuracy_score(eval_frame[\"true\"], eval_frame[\"pred\"])\n",
    "    \n",
    "    eval_frame = eval_frame[eval_frame.true != 2]\n",
    "    \n",
    "    two_class = accuracy_score(eval_frame[\"true\"], eval_frame[\"pred\"])\n",
    "    \n",
    "    logger.append([\"4o\",\"ger\", three_class, two_class])"
   ]
  },
  {
   "cell_type": "code",
   "execution_count": 80,
   "id": "26e71106",
   "metadata": {},
   "outputs": [
    {
     "data": {
      "text/html": [
       "<div>\n",
       "<style scoped>\n",
       "    .dataframe tbody tr th:only-of-type {\n",
       "        vertical-align: middle;\n",
       "    }\n",
       "\n",
       "    .dataframe tbody tr th {\n",
       "        vertical-align: top;\n",
       "    }\n",
       "\n",
       "    .dataframe thead th {\n",
       "        text-align: right;\n",
       "    }\n",
       "</style>\n",
       "<table border=\"1\" class=\"dataframe\">\n",
       "  <thead>\n",
       "    <tr style=\"text-align: right;\">\n",
       "      <th></th>\n",
       "      <th></th>\n",
       "      <th>three class</th>\n",
       "      <th>two class</th>\n",
       "    </tr>\n",
       "    <tr>\n",
       "      <th>model</th>\n",
       "      <th>lang</th>\n",
       "      <th></th>\n",
       "      <th></th>\n",
       "    </tr>\n",
       "  </thead>\n",
       "  <tbody>\n",
       "    <tr>\n",
       "      <th>4o</th>\n",
       "      <th>ger</th>\n",
       "      <td>0.452</td>\n",
       "      <td>0.494748</td>\n",
       "    </tr>\n",
       "  </tbody>\n",
       "</table>\n",
       "</div>"
      ],
      "text/plain": [
       "            three class  two class\n",
       "model lang                        \n",
       "4o    ger         0.452   0.494748"
      ]
     },
     "execution_count": 80,
     "metadata": {},
     "output_type": "execute_result"
    }
   ],
   "source": [
    "frame = pd.DataFrame(logger)\n",
    "frame.columns = [\"model\",\"lang\",\"three class\",\"two class\"]\n",
    "frame.groupby([\"model\",\"lang\"]).mean()"
   ]
  },
  {
   "cell_type": "code",
   "execution_count": 76,
   "id": "dda544e9",
   "metadata": {},
   "outputs": [
    {
     "data": {
      "text/html": [
       "<div>\n",
       "<style scoped>\n",
       "    .dataframe tbody tr th:only-of-type {\n",
       "        vertical-align: middle;\n",
       "    }\n",
       "\n",
       "    .dataframe tbody tr th {\n",
       "        vertical-align: top;\n",
       "    }\n",
       "\n",
       "    .dataframe thead th {\n",
       "        text-align: right;\n",
       "    }\n",
       "</style>\n",
       "<table border=\"1\" class=\"dataframe\">\n",
       "  <thead>\n",
       "    <tr style=\"text-align: right;\">\n",
       "      <th></th>\n",
       "      <th>model</th>\n",
       "      <th>lang</th>\n",
       "      <th>three class</th>\n",
       "      <th>two class</th>\n",
       "    </tr>\n",
       "  </thead>\n",
       "  <tbody>\n",
       "    <tr>\n",
       "      <th>0</th>\n",
       "      <td>4o</td>\n",
       "      <td>ger</td>\n",
       "      <td>0.43</td>\n",
       "      <td>0.533333</td>\n",
       "    </tr>\n",
       "    <tr>\n",
       "      <th>1</th>\n",
       "      <td>4o</td>\n",
       "      <td>ger</td>\n",
       "      <td>0.36</td>\n",
       "      <td>0.425926</td>\n",
       "    </tr>\n",
       "    <tr>\n",
       "      <th>2</th>\n",
       "      <td>4o</td>\n",
       "      <td>ger</td>\n",
       "      <td>0.33</td>\n",
       "      <td>0.257576</td>\n",
       "    </tr>\n",
       "    <tr>\n",
       "      <th>3</th>\n",
       "      <td>4o</td>\n",
       "      <td>ger</td>\n",
       "      <td>0.38</td>\n",
       "      <td>0.387097</td>\n",
       "    </tr>\n",
       "    <tr>\n",
       "      <th>4</th>\n",
       "      <td>4o</td>\n",
       "      <td>ger</td>\n",
       "      <td>0.47</td>\n",
       "      <td>0.506849</td>\n",
       "    </tr>\n",
       "  </tbody>\n",
       "</table>\n",
       "</div>"
      ],
      "text/plain": [
       "  model lang  three class  two class\n",
       "0    4o  ger         0.43   0.533333\n",
       "1    4o  ger         0.36   0.425926\n",
       "2    4o  ger         0.33   0.257576\n",
       "3    4o  ger         0.38   0.387097\n",
       "4    4o  ger         0.47   0.506849"
      ]
     },
     "execution_count": 76,
     "metadata": {},
     "output_type": "execute_result"
    }
   ],
   "source": [
    "frame"
   ]
  }
 ],
 "metadata": {
  "kernelspec": {
   "display_name": "fla",
   "language": "python",
   "name": "fla"
  },
  "language_info": {
   "codemirror_mode": {
    "name": "ipython",
    "version": 3
   },
   "file_extension": ".py",
   "mimetype": "text/x-python",
   "name": "python",
   "nbconvert_exporter": "python",
   "pygments_lexer": "ipython3",
   "version": "3.12.3"
  }
 },
 "nbformat": 4,
 "nbformat_minor": 5
}
